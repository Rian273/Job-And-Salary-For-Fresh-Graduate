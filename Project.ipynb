{
 "cells": [
  {
   "cell_type": "markdown",
   "metadata": {},
   "source": [
    "#\n",
    "\n",
    "==========================================================================================\n",
    "\n",
    "Tujuan : Project ini bertujuan untuk membantu seorang lulusan baru mendapatkan pekerjaan dengan gaji tahunan $45,000 dalam satu tahun, dengan meneliti pasar kerja yang relevan dan membuat portofolio dalam tiga bulan ke depan.\n",
    "\n",
    "==========================================================================================\n",
    "\n",
    "#"
   ]
  },
  {
   "cell_type": "markdown",
   "metadata": {},
   "source": [
    "## LINK TABLEU\n",
    "\n",
    "https://public.tableau.com/app/profile/permata.hajjarianti/viz/h8dsft_Milestone_Permata_Hajjarianti_Tableau/AnalisisDeskriptif?publish=yes\n"
   ]
  },
  {
   "cell_type": "markdown",
   "metadata": {},
   "source": [
    "## IDENTIFIKASI MASALAH"
   ]
  },
  {
   "cell_type": "markdown",
   "metadata": {},
   "source": [
    "#### <b>SMART FRAMEWORK</b>:\n",
    "\n",
    "Spesifik: mendapatkan pekerjaan dengan gaji $45.000 per tahun\n",
    "\n",
    "Measurable: memiliki gaji $45.000 pertahun setelah 1 tahun bekerja\n",
    "\n",
    "Achievable: measurable dapat dicapai dengan mencari tahu mengenai negara, pekerjaan, serta minimal years of experiences yang dibutuhkan\n",
    "\n",
    "Relevant: seorang fresh graduate dan harus mencari pekerjaan\n",
    "\n",
    "Time-bound:\n",
    "- dalam 3 bulan kedepan membuat portofolio\n",
    "- mendapatkan pekerjaan dengan gaji $45.000 pertahun dalam waktu 1 tahun kedepan\n",
    "\n",
    "#### <b>PROBLEM STATEMENT</b>:\n",
    "Seorang fresh graduate yang sedang mencari pekerjaan dengan gaji minimal sebesar $45.000 per tahun. Hal yang perlu dilakukan adalah membuat portofolio untuk menarik calon perusahaan dan mencari pekerjaan dengan gaji $45.000 per tahun dalam waktu 1 tahun setelah memiliki pengalaman kerja kurang lebih 1 tahun di posisi pekerjaan yang relevan.\n",
    "\n",
    "#### <b>PERTANYAAN 5W + 1H</b>:\n",
    "1. Apa Saja Pekerjaan yang Memiliki Minimal Penghasilan $45.000 per Tahun?\n",
    "2. Di Negara Mana Saja yang Memiliki Pekerjaan dengan Penghasilan Terbesar untuk Pengalaman Kerja 1 Tahun?\n",
    "3. Berapa Tahun Pengalaman Kerja yang Dibutuhkan Untuk Mendapatkan Penghasilan Sebesar $45.000 per Tahun?\n",
    "4. Apa 5 Pekerjaan yang Paling Banyak Dibutuhkan Di Negara-negara Maju dengan Penghasilan $45.000 per Tahun serta Pengalaman Kerja 1 Tahun?\n",
    "5. Apakah Education Level Mempengaruhi Penghasilan Minimum $45000 dengan Pengalaman Kerja 1 Tahun?\n",
    "6. Bagaimana Pemusatan dan Distribusi Data pada Kolom 'Salary' yang Memiliki Pengalaman Kerja 1 tahun?"
   ]
  },
  {
   "cell_type": "markdown",
   "metadata": {},
   "source": [
    "## DATA LOADING"
   ]
  },
  {
   "cell_type": "code",
   "execution_count": 1,
   "metadata": {},
   "outputs": [],
   "source": [
    "# Package-package yang dibutuhkan dalam mengolah data\n",
    "import pandas as pd\n",
    "import seaborn as sns\n",
    "import matplotlib.pyplot as plt\n",
    "import numpy as np\n",
    "from scipy.stats import f_oneway\n",
    "import scipy.stats as stats\n",
    "\n",
    "# Load data\n",
    "df = pd.read_csv('Salary.csv')\n"
   ]
  },
  {
   "cell_type": "markdown",
   "metadata": {},
   "source": [
    "## EXPLORASI DATA"
   ]
  },
  {
   "cell_type": "markdown",
   "metadata": {},
   "source": [
    "### Referensi Data:\n",
    "\n",
    "https://www.kaggle.com/datasets/amirmahdiabbootalebi/salary-by-job-title-and-country/data"
   ]
  },
  {
   "cell_type": "markdown",
   "metadata": {},
   "source": [
    "### Menampilkan info data"
   ]
  },
  {
   "cell_type": "code",
   "execution_count": 2,
   "metadata": {},
   "outputs": [
    {
     "name": "stdout",
     "output_type": "stream",
     "text": [
      "<class 'pandas.core.frame.DataFrame'>\n",
      "RangeIndex: 6684 entries, 0 to 6683\n",
      "Data columns (total 9 columns):\n",
      " #   Column               Non-Null Count  Dtype  \n",
      "---  ------               --------------  -----  \n",
      " 0   Age                  6684 non-null   float64\n",
      " 1   Gender               6684 non-null   object \n",
      " 2   Education Level      6684 non-null   int64  \n",
      " 3   Job Title            6684 non-null   object \n",
      " 4   Years of Experience  6684 non-null   float64\n",
      " 5   Salary               6684 non-null   float64\n",
      " 6   Country              6684 non-null   object \n",
      " 7   Race                 6684 non-null   object \n",
      " 8   Senior               6684 non-null   int64  \n",
      "dtypes: float64(3), int64(2), object(4)\n",
      "memory usage: 470.1+ KB\n"
     ]
    }
   ],
   "source": [
    "### Menampilkan info data\n",
    "df.info()"
   ]
  },
  {
   "cell_type": "markdown",
   "metadata": {},
   "source": [
    "Dapat dillihat dari informasi diatas bahwa dataframe memiliki 6684 data dengan 3 kolom jenis float, 4 kolom jeni object, dan 2 kolom jenis integer. Data diatas juga tidak memiliki null value."
   ]
  },
  {
   "cell_type": "code",
   "execution_count": 3,
   "metadata": {},
   "outputs": [
    {
     "data": {
      "text/plain": [
       "Index(['Age', 'Gender', 'Education Level', 'Job Title', 'Years of Experience',\n",
       "       'Salary', 'Country', 'Race', 'Senior'],\n",
       "      dtype='object')"
      ]
     },
     "execution_count": 3,
     "metadata": {},
     "output_type": "execute_result"
    }
   ],
   "source": [
    "## Menampilkan Nama Kolom\n",
    "df.columns"
   ]
  },
  {
   "cell_type": "markdown",
   "metadata": {},
   "source": [
    "Dapat dilihat dari informasi diatas bahwa pada dataframe memiliki 8 kolom yaitu Age, Gender, Education Level, Job Title, Years of Experience, Salary, Country, Race, Senior."
   ]
  },
  {
   "cell_type": "markdown",
   "metadata": {},
   "source": [
    "Keterangan Kolom\n",
    "- Age                   : Umur\n",
    "- Gender                : Jenis Kelamin (Female = Perempuan dan Male = Laki-laki)\n",
    "- Education Level       : Latar Belakang Pendidikan\n",
    "    0 = Sekolah Menengah Atas\n",
    "    1 = S1\n",
    "    2 = S2\n",
    "    3 = S3\n",
    "- Job Title             : Jenis Pekerjaan\n",
    "- Salary                : Penghasilan (US Dollar)\n",
    "- Years of Experience   : Pengalaman Kerja (Tahun)\n",
    "- Country               : Negara\n",
    "- Senior                : Posisi Senior atau Bukan\n",
    "    0 = Senior\n",
    "    1 = Bukan Senior"
   ]
  },
  {
   "cell_type": "markdown",
   "metadata": {},
   "source": [
    "## DATA CLEANING"
   ]
  },
  {
   "cell_type": "markdown",
   "metadata": {},
   "source": [
    "### Missing Value"
   ]
  },
  {
   "cell_type": "code",
   "execution_count": 4,
   "metadata": {},
   "outputs": [
    {
     "data": {
      "text/plain": [
       "Age                    0\n",
       "Gender                 0\n",
       "Education Level        0\n",
       "Job Title              0\n",
       "Years of Experience    0\n",
       "Salary                 0\n",
       "Country                0\n",
       "Race                   0\n",
       "Senior                 0\n",
       "dtype: int64"
      ]
     },
     "execution_count": 4,
     "metadata": {},
     "output_type": "execute_result"
    }
   ],
   "source": [
    "# Cek apakah terdapat null value\n",
    "df.isnull().sum()"
   ]
  },
  {
   "cell_type": "markdown",
   "metadata": {},
   "source": [
    "### Cek dan Menghapus Data Duplicate"
   ]
  },
  {
   "cell_type": "code",
   "execution_count": 5,
   "metadata": {},
   "outputs": [
    {
     "data": {
      "text/plain": [
       "True"
      ]
     },
     "execution_count": 5,
     "metadata": {},
     "output_type": "execute_result"
    }
   ],
   "source": [
    "# Cek apakah terdapat data duplicate\n",
    "df.duplicated().any()"
   ]
  },
  {
   "cell_type": "code",
   "execution_count": 6,
   "metadata": {},
   "outputs": [],
   "source": [
    "# Menghapus data duplicate\n",
    "df = df.drop_duplicates().reset_index(drop=True)"
   ]
  },
  {
   "cell_type": "code",
   "execution_count": 7,
   "metadata": {},
   "outputs": [
    {
     "data": {
      "text/html": [
       "<div>\n",
       "<style scoped>\n",
       "    .dataframe tbody tr th:only-of-type {\n",
       "        vertical-align: middle;\n",
       "    }\n",
       "\n",
       "    .dataframe tbody tr th {\n",
       "        vertical-align: top;\n",
       "    }\n",
       "\n",
       "    .dataframe thead th {\n",
       "        text-align: right;\n",
       "    }\n",
       "</style>\n",
       "<table border=\"1\" class=\"dataframe\">\n",
       "  <thead>\n",
       "    <tr style=\"text-align: right;\">\n",
       "      <th></th>\n",
       "      <th>Age</th>\n",
       "      <th>Gender</th>\n",
       "      <th>Education Level</th>\n",
       "      <th>Job Title</th>\n",
       "      <th>Years of Experience</th>\n",
       "      <th>Salary</th>\n",
       "      <th>Country</th>\n",
       "      <th>Race</th>\n",
       "      <th>Senior</th>\n",
       "    </tr>\n",
       "  </thead>\n",
       "  <tbody>\n",
       "    <tr>\n",
       "      <th>0</th>\n",
       "      <td>32.0</td>\n",
       "      <td>Male</td>\n",
       "      <td>1</td>\n",
       "      <td>Software Engineer</td>\n",
       "      <td>5.0</td>\n",
       "      <td>90000.0</td>\n",
       "      <td>UK</td>\n",
       "      <td>White</td>\n",
       "      <td>0</td>\n",
       "    </tr>\n",
       "    <tr>\n",
       "      <th>1</th>\n",
       "      <td>28.0</td>\n",
       "      <td>Female</td>\n",
       "      <td>2</td>\n",
       "      <td>Data Analyst</td>\n",
       "      <td>3.0</td>\n",
       "      <td>65000.0</td>\n",
       "      <td>USA</td>\n",
       "      <td>Hispanic</td>\n",
       "      <td>0</td>\n",
       "    </tr>\n",
       "    <tr>\n",
       "      <th>2</th>\n",
       "      <td>45.0</td>\n",
       "      <td>Male</td>\n",
       "      <td>3</td>\n",
       "      <td>Manager</td>\n",
       "      <td>15.0</td>\n",
       "      <td>150000.0</td>\n",
       "      <td>Canada</td>\n",
       "      <td>White</td>\n",
       "      <td>1</td>\n",
       "    </tr>\n",
       "    <tr>\n",
       "      <th>3</th>\n",
       "      <td>36.0</td>\n",
       "      <td>Female</td>\n",
       "      <td>1</td>\n",
       "      <td>Sales Associate</td>\n",
       "      <td>7.0</td>\n",
       "      <td>60000.0</td>\n",
       "      <td>USA</td>\n",
       "      <td>Hispanic</td>\n",
       "      <td>0</td>\n",
       "    </tr>\n",
       "    <tr>\n",
       "      <th>4</th>\n",
       "      <td>52.0</td>\n",
       "      <td>Male</td>\n",
       "      <td>2</td>\n",
       "      <td>Director</td>\n",
       "      <td>20.0</td>\n",
       "      <td>200000.0</td>\n",
       "      <td>USA</td>\n",
       "      <td>Asian</td>\n",
       "      <td>0</td>\n",
       "    </tr>\n",
       "    <tr>\n",
       "      <th>...</th>\n",
       "      <td>...</td>\n",
       "      <td>...</td>\n",
       "      <td>...</td>\n",
       "      <td>...</td>\n",
       "      <td>...</td>\n",
       "      <td>...</td>\n",
       "      <td>...</td>\n",
       "      <td>...</td>\n",
       "      <td>...</td>\n",
       "    </tr>\n",
       "    <tr>\n",
       "      <th>5143</th>\n",
       "      <td>37.0</td>\n",
       "      <td>Male</td>\n",
       "      <td>1</td>\n",
       "      <td>Sales Representative</td>\n",
       "      <td>6.0</td>\n",
       "      <td>75000.0</td>\n",
       "      <td>Canada</td>\n",
       "      <td>Asian</td>\n",
       "      <td>0</td>\n",
       "    </tr>\n",
       "    <tr>\n",
       "      <th>5144</th>\n",
       "      <td>49.0</td>\n",
       "      <td>Female</td>\n",
       "      <td>3</td>\n",
       "      <td>Director of Marketing</td>\n",
       "      <td>20.0</td>\n",
       "      <td>200000.0</td>\n",
       "      <td>UK</td>\n",
       "      <td>Mixed</td>\n",
       "      <td>0</td>\n",
       "    </tr>\n",
       "    <tr>\n",
       "      <th>5145</th>\n",
       "      <td>32.0</td>\n",
       "      <td>Male</td>\n",
       "      <td>0</td>\n",
       "      <td>Sales Associate</td>\n",
       "      <td>3.0</td>\n",
       "      <td>50000.0</td>\n",
       "      <td>Australia</td>\n",
       "      <td>Australian</td>\n",
       "      <td>0</td>\n",
       "    </tr>\n",
       "    <tr>\n",
       "      <th>5146</th>\n",
       "      <td>30.0</td>\n",
       "      <td>Female</td>\n",
       "      <td>1</td>\n",
       "      <td>Financial Manager</td>\n",
       "      <td>4.0</td>\n",
       "      <td>55000.0</td>\n",
       "      <td>China</td>\n",
       "      <td>Chinese</td>\n",
       "      <td>0</td>\n",
       "    </tr>\n",
       "    <tr>\n",
       "      <th>5147</th>\n",
       "      <td>46.0</td>\n",
       "      <td>Male</td>\n",
       "      <td>2</td>\n",
       "      <td>Marketing Manager</td>\n",
       "      <td>14.0</td>\n",
       "      <td>140000.0</td>\n",
       "      <td>China</td>\n",
       "      <td>Korean</td>\n",
       "      <td>0</td>\n",
       "    </tr>\n",
       "  </tbody>\n",
       "</table>\n",
       "<p>5148 rows × 9 columns</p>\n",
       "</div>"
      ],
      "text/plain": [
       "       Age  Gender  Education Level              Job Title  \\\n",
       "0     32.0    Male                1      Software Engineer   \n",
       "1     28.0  Female                2           Data Analyst   \n",
       "2     45.0    Male                3                Manager   \n",
       "3     36.0  Female                1        Sales Associate   \n",
       "4     52.0    Male                2               Director   \n",
       "...    ...     ...              ...                    ...   \n",
       "5143  37.0    Male                1   Sales Representative   \n",
       "5144  49.0  Female                3  Director of Marketing   \n",
       "5145  32.0    Male                0        Sales Associate   \n",
       "5146  30.0  Female                1      Financial Manager   \n",
       "5147  46.0    Male                2      Marketing Manager   \n",
       "\n",
       "      Years of Experience    Salary    Country        Race  Senior  \n",
       "0                     5.0   90000.0         UK       White       0  \n",
       "1                     3.0   65000.0        USA    Hispanic       0  \n",
       "2                    15.0  150000.0     Canada       White       1  \n",
       "3                     7.0   60000.0        USA    Hispanic       0  \n",
       "4                    20.0  200000.0        USA       Asian       0  \n",
       "...                   ...       ...        ...         ...     ...  \n",
       "5143                  6.0   75000.0     Canada       Asian       0  \n",
       "5144                 20.0  200000.0         UK       Mixed       0  \n",
       "5145                  3.0   50000.0  Australia  Australian       0  \n",
       "5146                  4.0   55000.0      China     Chinese       0  \n",
       "5147                 14.0  140000.0      China      Korean       0  \n",
       "\n",
       "[5148 rows x 9 columns]"
      ]
     },
     "execution_count": 7,
     "metadata": {},
     "output_type": "execute_result"
    }
   ],
   "source": [
    "# Menampilkan jumlah data setelah data duplicate dihapus\n",
    "df"
   ]
  },
  {
   "cell_type": "markdown",
   "metadata": {},
   "source": [
    "Dapat dilihat dari informasi diatas bahwa jumlah data setelah dilakukan penghapusan data duplicate yaitu sebanyak 5148, dimana jumlah awal sebelum data duplicate dihapus yaitu sebanyak 6684."
   ]
  },
  {
   "cell_type": "code",
   "execution_count": 8,
   "metadata": {},
   "outputs": [],
   "source": [
    "# Menyimpan data ke file csv baru\n",
    "df.to_csv('Salary_Clean.csv', index=False)"
   ]
  },
  {
   "cell_type": "markdown",
   "metadata": {},
   "source": [
    "### Data Type"
   ]
  },
  {
   "cell_type": "code",
   "execution_count": 10,
   "metadata": {},
   "outputs": [
    {
     "name": "stdout",
     "output_type": "stream",
     "text": [
      "<class 'pandas.core.frame.DataFrame'>\n",
      "RangeIndex: 5148 entries, 0 to 5147\n",
      "Data columns (total 9 columns):\n",
      " #   Column               Non-Null Count  Dtype  \n",
      "---  ------               --------------  -----  \n",
      " 0   Age                  5148 non-null   float64\n",
      " 1   Gender               5148 non-null   object \n",
      " 2   Education Level      5148 non-null   int64  \n",
      " 3   Job Title            5148 non-null   object \n",
      " 4   Years of Experience  5148 non-null   float64\n",
      " 5   Salary               5148 non-null   float64\n",
      " 6   Country              5148 non-null   object \n",
      " 7   Race                 5148 non-null   object \n",
      " 8   Senior               5148 non-null   int64  \n",
      "dtypes: float64(3), int64(2), object(4)\n",
      "memory usage: 362.1+ KB\n"
     ]
    }
   ],
   "source": [
    "# Menampilkan info tipe data sebelum dilakukannya perubahan tipe data\n",
    "df.info()"
   ]
  },
  {
   "cell_type": "markdown",
   "metadata": {},
   "source": [
    "Dapat dilihat pada data diatas dapat dilihat bahwa dataframe memiliki 3 kolom jenis float, 4 kolom jenis object, dan 2 kolom jenis integer. Pada kolom Age, Education Level, dan Years of Experience yang memiliki tipe data float akan diubah menjadi tipe data integer."
   ]
  },
  {
   "cell_type": "code",
   "execution_count": 11,
   "metadata": {},
   "outputs": [],
   "source": [
    "# Mengganti tipe data\n",
    "df['Age'] = df['Age'].astype(int)\n",
    "df['Years of Experience'] = df['Years of Experience'].astype(int)\n",
    "df['Education Level'] = df['Education Level'].astype(int)\n"
   ]
  },
  {
   "cell_type": "markdown",
   "metadata": {},
   "source": [
    "## ANALISIS DAN PERHITUNGAN"
   ]
  },
  {
   "cell_type": "markdown",
   "metadata": {},
   "source": [
    "### 1. Apa Saja Pekerjaan yang Memiliki Minimal Penghasilan $45.000 per Tahun?"
   ]
  },
  {
   "cell_type": "code",
   "execution_count": 13,
   "metadata": {},
   "outputs": [
    {
     "data": {
      "text/html": [
       "<div>\n",
       "<style scoped>\n",
       "    .dataframe tbody tr th:only-of-type {\n",
       "        vertical-align: middle;\n",
       "    }\n",
       "\n",
       "    .dataframe tbody tr th {\n",
       "        vertical-align: top;\n",
       "    }\n",
       "\n",
       "    .dataframe thead th {\n",
       "        text-align: right;\n",
       "    }\n",
       "</style>\n",
       "<table border=\"1\" class=\"dataframe\">\n",
       "  <thead>\n",
       "    <tr style=\"text-align: right;\">\n",
       "      <th></th>\n",
       "      <th>Salary</th>\n",
       "    </tr>\n",
       "    <tr>\n",
       "      <th>Job Title</th>\n",
       "      <th></th>\n",
       "    </tr>\n",
       "  </thead>\n",
       "  <tbody>\n",
       "    <tr>\n",
       "      <th>Account Executive</th>\n",
       "      <td>95000.000000</td>\n",
       "    </tr>\n",
       "    <tr>\n",
       "      <th>Account Manager</th>\n",
       "      <td>71250.000000</td>\n",
       "    </tr>\n",
       "    <tr>\n",
       "      <th>Accountant</th>\n",
       "      <td>58333.333333</td>\n",
       "    </tr>\n",
       "    <tr>\n",
       "      <th>Administrative Assistant</th>\n",
       "      <td>50000.000000</td>\n",
       "    </tr>\n",
       "    <tr>\n",
       "      <th>Advertising Coordinator</th>\n",
       "      <td>45000.000000</td>\n",
       "    </tr>\n",
       "    <tr>\n",
       "      <th>...</th>\n",
       "      <td>...</td>\n",
       "    </tr>\n",
       "    <tr>\n",
       "      <th>UX Researcher</th>\n",
       "      <td>65000.000000</td>\n",
       "    </tr>\n",
       "    <tr>\n",
       "      <th>VP of Finance</th>\n",
       "      <td>200000.000000</td>\n",
       "    </tr>\n",
       "    <tr>\n",
       "      <th>VP of Operations</th>\n",
       "      <td>190000.000000</td>\n",
       "    </tr>\n",
       "    <tr>\n",
       "      <th>Web Designer</th>\n",
       "      <td>45000.000000</td>\n",
       "    </tr>\n",
       "    <tr>\n",
       "      <th>Web Developer</th>\n",
       "      <td>60061.403509</td>\n",
       "    </tr>\n",
       "  </tbody>\n",
       "</table>\n",
       "<p>129 rows × 1 columns</p>\n",
       "</div>"
      ],
      "text/plain": [
       "                                 Salary\n",
       "Job Title                              \n",
       "Account Executive          95000.000000\n",
       "Account Manager            71250.000000\n",
       "Accountant                 58333.333333\n",
       "Administrative Assistant   50000.000000\n",
       "Advertising Coordinator    45000.000000\n",
       "...                                 ...\n",
       "UX Researcher              65000.000000\n",
       "VP of Finance             200000.000000\n",
       "VP of Operations          190000.000000\n",
       "Web Designer               45000.000000\n",
       "Web Developer              60061.403509\n",
       "\n",
       "[129 rows x 1 columns]"
      ]
     },
     "execution_count": 13,
     "metadata": {},
     "output_type": "execute_result"
    }
   ],
   "source": [
    "# Membuat dataframe baru yang berisikan hasil pengelompokkan kolom Job Title berdasarkan rata-rata penghasilan\n",
    "df_1 = df.groupby(['Job Title']).agg({'Salary':'mean'}) # Mengelompokkan data berdasarkan kolom 'Job Title'\n",
    "\n",
    "# Menampilkan data\n",
    "df_1 "
   ]
  },
  {
   "cell_type": "markdown",
   "metadata": {},
   "source": [
    "Dapat dilihat pada data diatas terdapat 129 jenis pekerjaan di dataset 'Salary.csv' ini, 129 jenis pekerjaan didapatkan dari hasil pengelompokkan jenis pekerjaan."
   ]
  },
  {
   "cell_type": "code",
   "execution_count": 14,
   "metadata": {},
   "outputs": [
    {
     "data": {
      "text/html": [
       "<div>\n",
       "<style scoped>\n",
       "    .dataframe tbody tr th:only-of-type {\n",
       "        vertical-align: middle;\n",
       "    }\n",
       "\n",
       "    .dataframe tbody tr th {\n",
       "        vertical-align: top;\n",
       "    }\n",
       "\n",
       "    .dataframe thead th {\n",
       "        text-align: right;\n",
       "    }\n",
       "</style>\n",
       "<table border=\"1\" class=\"dataframe\">\n",
       "  <thead>\n",
       "    <tr style=\"text-align: right;\">\n",
       "      <th></th>\n",
       "      <th>Salary</th>\n",
       "    </tr>\n",
       "    <tr>\n",
       "      <th>Job Title</th>\n",
       "      <th></th>\n",
       "    </tr>\n",
       "  </thead>\n",
       "  <tbody>\n",
       "    <tr>\n",
       "      <th>CEO</th>\n",
       "      <td>2.500000e+05</td>\n",
       "    </tr>\n",
       "    <tr>\n",
       "      <th>Chief Data Officer</th>\n",
       "      <td>2.200000e+05</td>\n",
       "    </tr>\n",
       "    <tr>\n",
       "      <th>Chief Technology Officer</th>\n",
       "      <td>2.500000e+05</td>\n",
       "    </tr>\n",
       "    <tr>\n",
       "      <th>Director of Data Science</th>\n",
       "      <td>2.040000e+05</td>\n",
       "    </tr>\n",
       "    <tr>\n",
       "      <th>Other</th>\n",
       "      <td>1.159682e+07</td>\n",
       "    </tr>\n",
       "  </tbody>\n",
       "</table>\n",
       "</div>"
      ],
      "text/plain": [
       "                                Salary\n",
       "Job Title                             \n",
       "CEO                       2.500000e+05\n",
       "Chief Data Officer        2.200000e+05\n",
       "Chief Technology Officer  2.500000e+05\n",
       "Director of Data Science  2.040000e+05\n",
       "Other                     1.159682e+07"
      ]
     },
     "execution_count": 14,
     "metadata": {},
     "output_type": "execute_result"
    }
   ],
   "source": [
    "# Membuat dataframe baru yang berisikan hasil df_1 menyaring data nilai 'Salary' lebih besar atau sama dengan $45000\n",
    "df1 = df_1[df_1['Salary'] >= 45000].sort_values('Salary', ascending=False).reset_index() # Filter data 'Salary' >= $4500 dan mengurutkannya dari besar ke kecil\n",
    "\n",
    "# Membuat dataframe baru yang berisikan 4 pekerjaan yang memiliki penghasilan terbesar\n",
    "df_top4 = df1[:4]\n",
    "\n",
    "# Membuat dataframe baru berisikan penggabungan pekerjaan selain 4 pekerjaan yang memiliki penghasilan terbesar\n",
    "df_other = df1.iloc[4:]\n",
    "sum_other = df_other['Salary'].sum() # Menghitung total penghasilan pada df_other\n",
    "other_row = {'Job Title': 'Other', 'Salary': sum_other} # Membuat dataframe dari dictionary\n",
    "\n",
    "# Membuat dataframe baru hasil dari penggabungan df_top4 dan dataframe other_row\n",
    "df_5_job = pd.concat([df_top4, pd.DataFrame([other_row])], ignore_index=True)\n",
    "df_5_job.groupby(by='Job Title').sum() # Dataframe baru yg berisikan jumlah penghasilan untuk setiap jenis pekerjaan\n",
    "\n"
   ]
  },
  {
   "cell_type": "markdown",
   "metadata": {},
   "source": [
    "Dari data diatas dapat kita ketahui bahwa 4 pekerjaan yang memiliki rata-rata penghasilan diatas $45000 yaitu CEO, Chief data Officer, Chief Technology Officer, dan Director of Data Science."
   ]
  },
  {
   "cell_type": "code",
   "execution_count": 15,
   "metadata": {},
   "outputs": [
    {
     "data": {
      "image/png": "[encoded data removed]",
      "text/plain": [
       "<Figure size 800x800 with 1 Axes>"
      ]
     },
     "metadata": {},
     "output_type": "display_data"
    }
   ],
   "source": [
    "# Visualisasi data menggunakan pie chart\n",
    "fig,ax1 = plt.subplots(figsize=(8,8))\n",
    "\n",
    "df_5_job.groupby(by='Job Title').sum().plot(kind='pie', x='Job Title', y='Salary', xlabel='Job Title', autopct='%.2f%%',ax=ax1)\n",
    "plt.show()"
   ]
  },
  {
   "cell_type": "markdown",
   "metadata": {},
   "source": [
    "Pie chart diatas menjelaskan bahwa CEO dan Chief Technology Officer memiliki persentase sebesar 2%, Chief Data Officer sebesar 1,76%, Director of Data Science sebsar 1,63%, dan persentase terbesar yaitu 92,62% dimiliki oleh jenis pekerjaan selain CEO, Chief Technology Officer, Chief Data Officer, dan irector of Data Science (Other)."
   ]
  },
  {
   "cell_type": "markdown",
   "metadata": {},
   "source": [
    "### 2. Di Negara Mana Saja yang Memiliki Pekerjaan dengan Penghasilan Terbesar untuk Pengalaman Kerja 1 Tahun?"
   ]
  },
  {
   "cell_type": "code",
   "execution_count": 16,
   "metadata": {},
   "outputs": [
    {
     "data": {
      "text/html": [
       "<div>\n",
       "<style scoped>\n",
       "    .dataframe tbody tr th:only-of-type {\n",
       "        vertical-align: middle;\n",
       "    }\n",
       "\n",
       "    .dataframe tbody tr th {\n",
       "        vertical-align: top;\n",
       "    }\n",
       "\n",
       "    .dataframe thead th {\n",
       "        text-align: right;\n",
       "    }\n",
       "</style>\n",
       "<table border=\"1\" class=\"dataframe\">\n",
       "  <thead>\n",
       "    <tr style=\"text-align: right;\">\n",
       "      <th></th>\n",
       "      <th>Age</th>\n",
       "      <th>Gender</th>\n",
       "      <th>Education Level</th>\n",
       "      <th>Job Title</th>\n",
       "      <th>Years of Experience</th>\n",
       "      <th>Salary</th>\n",
       "      <th>Country</th>\n",
       "      <th>Race</th>\n",
       "      <th>Senior</th>\n",
       "    </tr>\n",
       "  </thead>\n",
       "  <tbody>\n",
       "    <tr>\n",
       "      <th>0</th>\n",
       "      <td>23</td>\n",
       "      <td>Male</td>\n",
       "      <td>3</td>\n",
       "      <td>Software Engineer Manager</td>\n",
       "      <td>1</td>\n",
       "      <td>119836.0</td>\n",
       "      <td>UK</td>\n",
       "      <td>Asian</td>\n",
       "      <td>0</td>\n",
       "    </tr>\n",
       "    <tr>\n",
       "      <th>1</th>\n",
       "      <td>23</td>\n",
       "      <td>Male</td>\n",
       "      <td>3</td>\n",
       "      <td>Software Engineer Manager</td>\n",
       "      <td>1</td>\n",
       "      <td>119836.0</td>\n",
       "      <td>UK</td>\n",
       "      <td>Welsh</td>\n",
       "      <td>0</td>\n",
       "    </tr>\n",
       "    <tr>\n",
       "      <th>2</th>\n",
       "      <td>24</td>\n",
       "      <td>Male</td>\n",
       "      <td>3</td>\n",
       "      <td>Software Engineer Manager</td>\n",
       "      <td>1</td>\n",
       "      <td>106686.0</td>\n",
       "      <td>Australia</td>\n",
       "      <td>Asian</td>\n",
       "      <td>0</td>\n",
       "    </tr>\n",
       "    <tr>\n",
       "      <th>3</th>\n",
       "      <td>24</td>\n",
       "      <td>Male</td>\n",
       "      <td>3</td>\n",
       "      <td>Software Engineer Manager</td>\n",
       "      <td>1</td>\n",
       "      <td>106686.0</td>\n",
       "      <td>USA</td>\n",
       "      <td>White</td>\n",
       "      <td>0</td>\n",
       "    </tr>\n",
       "    <tr>\n",
       "      <th>4</th>\n",
       "      <td>24</td>\n",
       "      <td>Male</td>\n",
       "      <td>3</td>\n",
       "      <td>Software Engineer Manager</td>\n",
       "      <td>1</td>\n",
       "      <td>106132.0</td>\n",
       "      <td>Australia</td>\n",
       "      <td>Asian</td>\n",
       "      <td>0</td>\n",
       "    </tr>\n",
       "    <tr>\n",
       "      <th>...</th>\n",
       "      <td>...</td>\n",
       "      <td>...</td>\n",
       "      <td>...</td>\n",
       "      <td>...</td>\n",
       "      <td>...</td>\n",
       "      <td>...</td>\n",
       "      <td>...</td>\n",
       "      <td>...</td>\n",
       "      <td>...</td>\n",
       "    </tr>\n",
       "    <tr>\n",
       "      <th>414</th>\n",
       "      <td>24</td>\n",
       "      <td>Male</td>\n",
       "      <td>0</td>\n",
       "      <td>Sales Associate</td>\n",
       "      <td>1</td>\n",
       "      <td>25000.0</td>\n",
       "      <td>Canada</td>\n",
       "      <td>Asian</td>\n",
       "      <td>0</td>\n",
       "    </tr>\n",
       "    <tr>\n",
       "      <th>415</th>\n",
       "      <td>28</td>\n",
       "      <td>Female</td>\n",
       "      <td>0</td>\n",
       "      <td>Sales Associate</td>\n",
       "      <td>1</td>\n",
       "      <td>25000.0</td>\n",
       "      <td>UK</td>\n",
       "      <td>White</td>\n",
       "      <td>0</td>\n",
       "    </tr>\n",
       "    <tr>\n",
       "      <th>416</th>\n",
       "      <td>23</td>\n",
       "      <td>Male</td>\n",
       "      <td>3</td>\n",
       "      <td>Software Engineer Manager</td>\n",
       "      <td>1</td>\n",
       "      <td>579.0</td>\n",
       "      <td>UK</td>\n",
       "      <td>Mixed</td>\n",
       "      <td>0</td>\n",
       "    </tr>\n",
       "    <tr>\n",
       "      <th>417</th>\n",
       "      <td>25</td>\n",
       "      <td>Female</td>\n",
       "      <td>1</td>\n",
       "      <td>Front end Developer</td>\n",
       "      <td>1</td>\n",
       "      <td>550.0</td>\n",
       "      <td>UK</td>\n",
       "      <td>Mixed</td>\n",
       "      <td>0</td>\n",
       "    </tr>\n",
       "    <tr>\n",
       "      <th>418</th>\n",
       "      <td>29</td>\n",
       "      <td>Male</td>\n",
       "      <td>1</td>\n",
       "      <td>Business Operations Analyst</td>\n",
       "      <td>1</td>\n",
       "      <td>350.0</td>\n",
       "      <td>USA</td>\n",
       "      <td>Hispanic</td>\n",
       "      <td>0</td>\n",
       "    </tr>\n",
       "  </tbody>\n",
       "</table>\n",
       "<p>419 rows × 9 columns</p>\n",
       "</div>"
      ],
      "text/plain": [
       "     Age  Gender  Education Level                    Job Title  \\\n",
       "0     23    Male                3    Software Engineer Manager   \n",
       "1     23    Male                3    Software Engineer Manager   \n",
       "2     24    Male                3    Software Engineer Manager   \n",
       "3     24    Male                3    Software Engineer Manager   \n",
       "4     24    Male                3    Software Engineer Manager   \n",
       "..   ...     ...              ...                          ...   \n",
       "414   24    Male                0              Sales Associate   \n",
       "415   28  Female                0              Sales Associate   \n",
       "416   23    Male                3    Software Engineer Manager   \n",
       "417   25  Female                1          Front end Developer   \n",
       "418   29    Male                1  Business Operations Analyst   \n",
       "\n",
       "     Years of Experience    Salary    Country      Race  Senior  \n",
       "0                      1  119836.0         UK     Asian       0  \n",
       "1                      1  119836.0         UK     Welsh       0  \n",
       "2                      1  106686.0  Australia     Asian       0  \n",
       "3                      1  106686.0        USA     White       0  \n",
       "4                      1  106132.0  Australia     Asian       0  \n",
       "..                   ...       ...        ...       ...     ...  \n",
       "414                    1   25000.0     Canada     Asian       0  \n",
       "415                    1   25000.0         UK     White       0  \n",
       "416                    1     579.0         UK     Mixed       0  \n",
       "417                    1     550.0         UK     Mixed       0  \n",
       "418                    1     350.0        USA  Hispanic       0  \n",
       "\n",
       "[419 rows x 9 columns]"
      ]
     },
     "execution_count": 16,
     "metadata": {},
     "output_type": "execute_result"
    }
   ],
   "source": [
    "# Membuat dataframe baru yang berisikan hasil filter berdasarkan tahun pengalaman kerja selama 1 tahun \n",
    "df2 = df[(df['Years of Experience'] == 1)].sort_values(by='Salary', ascending=False).reset_index(drop=True) # Mengurutkan kolom Salary dari yang terbesar ke kecil\n",
    "\n",
    "# Menampilkan data\n",
    "df2"
   ]
  },
  {
   "cell_type": "markdown",
   "metadata": {},
   "source": [
    "Hanya terdapat 419 data karena pada dataframe telah difilter berdasarkan requirement untuk mengerjakan soal 2"
   ]
  },
  {
   "cell_type": "code",
   "execution_count": 17,
   "metadata": {},
   "outputs": [
    {
     "data": {
      "text/html": [
       "<div>\n",
       "<style scoped>\n",
       "    .dataframe tbody tr th:only-of-type {\n",
       "        vertical-align: middle;\n",
       "    }\n",
       "\n",
       "    .dataframe tbody tr th {\n",
       "        vertical-align: top;\n",
       "    }\n",
       "\n",
       "    .dataframe thead th {\n",
       "        text-align: right;\n",
       "    }\n",
       "</style>\n",
       "<table border=\"1\" class=\"dataframe\">\n",
       "  <thead>\n",
       "    <tr style=\"text-align: right;\">\n",
       "      <th></th>\n",
       "      <th>Salary</th>\n",
       "    </tr>\n",
       "    <tr>\n",
       "      <th>Country</th>\n",
       "      <th></th>\n",
       "    </tr>\n",
       "  </thead>\n",
       "  <tbody>\n",
       "    <tr>\n",
       "      <th>Australia</th>\n",
       "      <td>106686.0</td>\n",
       "    </tr>\n",
       "    <tr>\n",
       "      <th>Canada</th>\n",
       "      <td>100000.0</td>\n",
       "    </tr>\n",
       "    <tr>\n",
       "      <th>China</th>\n",
       "      <td>100000.0</td>\n",
       "    </tr>\n",
       "    <tr>\n",
       "      <th>UK</th>\n",
       "      <td>119836.0</td>\n",
       "    </tr>\n",
       "    <tr>\n",
       "      <th>USA</th>\n",
       "      <td>106686.0</td>\n",
       "    </tr>\n",
       "  </tbody>\n",
       "</table>\n",
       "</div>"
      ],
      "text/plain": [
       "             Salary\n",
       "Country            \n",
       "Australia  106686.0\n",
       "Canada     100000.0\n",
       "China      100000.0\n",
       "UK         119836.0\n",
       "USA        106686.0"
      ]
     },
     "execution_count": 17,
     "metadata": {},
     "output_type": "execute_result"
    }
   ],
   "source": [
    "# Membuat dataframe baru yang berisikan hasil pengelompokkan kolom Country berdasarkan nilai maximum penghasilan pada kolom Salary \n",
    "df2 = df2.groupby(['Country']).agg({'Salary':'max'})\n",
    "\n",
    "# Menampilkan data\n",
    "df2"
   ]
  },
  {
   "cell_type": "code",
   "execution_count": 18,
   "metadata": {},
   "outputs": [
    {
     "data": {
      "text/plain": [
       "<Axes: xlabel='Country'>"
      ]
     },
     "execution_count": 18,
     "metadata": {},
     "output_type": "execute_result"
    },
    {
     "data": {
      "image/png": "[encoded data removed]",
      "text/plain": [
       "<Figure size 640x480 with 1 Axes>"
      ]
     },
     "metadata": {},
     "output_type": "display_data"
    }
   ],
   "source": [
    "# Visualisasi data menggunakan bar chart\n",
    "df2.plot(kind='bar')"
   ]
  },
  {
   "cell_type": "markdown",
   "metadata": {},
   "source": [
    "Dari bar chart di atas diketahui bahwa negara yang memiliki penghasilan terbesar dengan minimal pengalaman kerja sebanyak 1 tahun ialah UK dengan penghasilan sebesar $119.836 per tahun, diikuti oleh negara Autralia dan USA dengan penghasilan sebesar $106.686, kemudian terakhir yaitu negara Canada dan China dengan penghasilan sebesar $100.000. Dan untuk kesimpulan, negara UK menjadi negara yang memiliki penghasilan paling besar."
   ]
  },
  {
   "cell_type": "markdown",
   "metadata": {},
   "source": [
    "### 3. Berapa Tahun Pengalaman Kerja yang Dibutuhkan Untuk Mendapatkan Penghasilan Sebesar $45.000 per Tahun?"
   ]
  },
  {
   "cell_type": "code",
   "execution_count": 19,
   "metadata": {},
   "outputs": [
    {
     "data": {
      "text/html": [
       "<div>\n",
       "<style scoped>\n",
       "    .dataframe tbody tr th:only-of-type {\n",
       "        vertical-align: middle;\n",
       "    }\n",
       "\n",
       "    .dataframe tbody tr th {\n",
       "        vertical-align: top;\n",
       "    }\n",
       "\n",
       "    .dataframe thead th {\n",
       "        text-align: right;\n",
       "    }\n",
       "</style>\n",
       "<table border=\"1\" class=\"dataframe\">\n",
       "  <thead>\n",
       "    <tr style=\"text-align: right;\">\n",
       "      <th></th>\n",
       "      <th>Salary</th>\n",
       "    </tr>\n",
       "    <tr>\n",
       "      <th>Years of Experience</th>\n",
       "      <th></th>\n",
       "    </tr>\n",
       "  </thead>\n",
       "  <tbody>\n",
       "    <tr>\n",
       "      <th>1</th>\n",
       "      <td>810000.0</td>\n",
       "    </tr>\n",
       "    <tr>\n",
       "      <th>2</th>\n",
       "      <td>1215000.0</td>\n",
       "    </tr>\n",
       "    <tr>\n",
       "      <th>3</th>\n",
       "      <td>900000.0</td>\n",
       "    </tr>\n",
       "    <tr>\n",
       "      <th>5</th>\n",
       "      <td>90000.0</td>\n",
       "    </tr>\n",
       "    <tr>\n",
       "      <th>8</th>\n",
       "      <td>45000.0</td>\n",
       "    </tr>\n",
       "  </tbody>\n",
       "</table>\n",
       "</div>"
      ],
      "text/plain": [
       "                        Salary\n",
       "Years of Experience           \n",
       "1                     810000.0\n",
       "2                    1215000.0\n",
       "3                     900000.0\n",
       "5                      90000.0\n",
       "8                      45000.0"
      ]
     },
     "execution_count": 19,
     "metadata": {},
     "output_type": "execute_result"
    }
   ],
   "source": [
    "# Membuat dataframe baru yang berisikan hasil filter berdasarkan besar penghasilan sebanyak $45000\n",
    "df_3 = df[df['Salary'] == 45000][['Years of Experience', 'Salary']].reset_index(drop=True)\n",
    "\n",
    "# Pengelompokkan tahun pengalaman kerja dan menjumlahkan total penghasilan dari kolom Years of Experience\n",
    "df_3.groupby(['Years of Experience']).sum()"
   ]
  },
  {
   "cell_type": "markdown",
   "metadata": {},
   "source": [
    "Dapat dilihat dari data di atas bahwa untuk mendapatkan penghasilan $45000 per tahun diperlukan lama pengalaman kerja yang cukup bervariasi. Dari data diatas menunjukkan butuh 1 tahu, 2 tahun, 3 tahun, 5 tahun, atau bahkan 8 tahun pengalaman kerja untuk mendapatkan penghasilan $45000 per tahun."
   ]
  },
  {
   "cell_type": "code",
   "execution_count": 20,
   "metadata": {},
   "outputs": [
    {
     "data": {
      "image/png": "[encoded data removed]",
      "text/plain": [
       "<Figure size 800x800 with 1 Axes>"
      ]
     },
     "metadata": {},
     "output_type": "display_data"
    }
   ],
   "source": [
    "# Visualisasi data menggunakan pie chart\n",
    "fig,ax1 = plt.subplots(figsize=(8,8))\n",
    "\n",
    "df_3.groupby(['Years of Experience']).sum().plot(kind='pie', x='Years of Experience', y='Salary', xlabel='Years of Experience', autopct='%.2f%%',ax=ax1)\n",
    "plt.show()"
   ]
  },
  {
   "cell_type": "markdown",
   "metadata": {},
   "source": [
    "Pie chart diatas menjelaskan bahwa paling banyak pekerja yang mendapatkan penghasilan sebesar $45000 membutuhkan 2 tahun pengalaman kerja, adapun persentase dari banyaknya pekerja yang memiliki 2 tahun pengalaman kerja yaitu sebanyak 39.71%. Untuk 3 tahun pengalaman kerja memiliki persentase sebesar 29.41%, untuk 1 tahun pengalaman kerja memiliki persentase sebesar 26.47%, untuk 5 tahun pengalaman kerja memiliki persentase sebanyak 2.94%, dan untuk 8 tahun pengalaman kerja memiliki persentase sebanyak 1.47."
   ]
  },
  {
   "cell_type": "markdown",
   "metadata": {},
   "source": [
    "### 4. Apa Pekerjaan yang Paling Banyak Dibutuhkan Di Negara-negara Maju dengan Penghasilan $45.000 per Tahun serta Pengalaman Kerja 1 Tahun?"
   ]
  },
  {
   "cell_type": "code",
   "execution_count": 21,
   "metadata": {},
   "outputs": [
    {
     "data": {
      "text/plain": [
       "Job Title\n",
       "Software Engineer      56\n",
       "Front end Developer    34\n",
       "Data Analyst           32\n",
       "Product Manager        22\n",
       "Back end Developer     16\n",
       "Name: count, dtype: int64"
      ]
     },
     "execution_count": 21,
     "metadata": {},
     "output_type": "execute_result"
    }
   ],
   "source": [
    "# Membuat dataframe baru berisikan hasil filter berdasarkan besar penghasilan yang lebih besar atau sama dengan $45000 dan tahun pengalaman kerja selama 1 tahun\n",
    "df_4 = df[(df['Salary'] >= 45000) & (df['Years of Experience'] == 1)].sort_values(by='Job Title', ascending=False).reset_index() # Diurutkan dari besar ke kecil\n",
    "\n",
    "# Membuat dataframe baru berisikan hasil jumlah frekuensi kemunculan nilai unik dari kolom Job Title\n",
    "df4 = df_4['Job Title'].value_counts().nlargest(5) # Mengambil data 5 Teratas\n",
    "\n",
    "# Menampilkan data\n",
    "df4"
   ]
  },
  {
   "cell_type": "markdown",
   "metadata": {},
   "source": [
    "Dapat diketahui dari data di atas bahwa 5 pekerjaan yang paling banyak dibutuhkan dengan penghasilan $45000 dan pengalaman kerja selama 1 tahun yaitu sebagai berikut:\n",
    "- Software Engineer: dengan jumlah frekuensi kemunculan pada data sebanyak 56 kali\n",
    "- Front end Developer dengan jumlah frekuensi kemunculan pada data sebanyak 34 kali\n",
    "- Data Analyst dengan jumlah frekuensi kemunculan pada data sebanyak 32 kali\n",
    "- Product Manager dengan jumlah frekuensi kemunculan pada data sebanyak 22 kali\n",
    "- Back end Developer dengan jumlah frekuensi kemunculan pada data sebanyak 16 kali"
   ]
  },
  {
   "cell_type": "code",
   "execution_count": 22,
   "metadata": {},
   "outputs": [
    {
     "data": {
      "text/plain": [
       "<Axes: ylabel='Job Title'>"
      ]
     },
     "execution_count": 22,
     "metadata": {},
     "output_type": "execute_result"
    },
    {
     "data": {
      "image/png": "[encoded data removed]",
      "text/plain": [
       "<Figure size 640x480 with 1 Axes>"
      ]
     },
     "metadata": {},
     "output_type": "display_data"
    }
   ],
   "source": [
    "# Visualisasi menggunakan bar chart\n",
    "df4.plot(kind='barh')"
   ]
  },
  {
   "cell_type": "markdown",
   "metadata": {},
   "source": [
    "Dari bar chart diatas dapat dilihat bahwa 5 pekerjaan yang paling banyak dibutuhkan dengan penghasilan $45000 dan pengalaman kerja selama 1 tahun yaitu Software Engineer, Front end Developer, Data Analyst, Product Manager, dan Back end Developer. Jenis pekerjaan yang paling banyak dibutuhkan yaitu Software Engineer dan jenis pekerjaan yang paling sedikit dibutuhkan diantara 5 data teratas yaitu Back end Developer."
   ]
  },
  {
   "cell_type": "markdown",
   "metadata": {},
   "source": [
    "### 5. Apakah Education Level Mempengaruhi Penghasilan Minimum $45000 dengan Pengalaman Kerja 1 Tahun?"
   ]
  },
  {
   "cell_type": "markdown",
   "metadata": {},
   "source": [
    "Analisa ini akan mencari apakah terdapat pengaruh education level dengan penghasilan minimum $45000 dan pengalaman 1 tahun kerja menggunakan annova test. Hipotesa dalam pengujian ini sebagai berikut:\n",
    "\n",
    "- H0: Tidak terdapat hubungan antara education level dengan penghasilan minimum $45000 yang diperoleh\n",
    "\n",
    "- H1: Terdapat hubungan antara education level dengan penghasilan minimum $45000 yang diperoleh"
   ]
  },
  {
   "cell_type": "code",
   "execution_count": 23,
   "metadata": {},
   "outputs": [
    {
     "data": {
      "text/html": [
       "<div>\n",
       "<style scoped>\n",
       "    .dataframe tbody tr th:only-of-type {\n",
       "        vertical-align: middle;\n",
       "    }\n",
       "\n",
       "    .dataframe tbody tr th {\n",
       "        vertical-align: top;\n",
       "    }\n",
       "\n",
       "    .dataframe thead th {\n",
       "        text-align: right;\n",
       "    }\n",
       "</style>\n",
       "<table border=\"1\" class=\"dataframe\">\n",
       "  <thead>\n",
       "    <tr style=\"text-align: right;\">\n",
       "      <th></th>\n",
       "      <th>Age</th>\n",
       "      <th>Gender</th>\n",
       "      <th>Education Level</th>\n",
       "      <th>Job Title</th>\n",
       "      <th>Years of Experience</th>\n",
       "      <th>Salary</th>\n",
       "      <th>Country</th>\n",
       "      <th>Race</th>\n",
       "      <th>Senior</th>\n",
       "    </tr>\n",
       "  </thead>\n",
       "  <tbody>\n",
       "    <tr>\n",
       "      <th>0</th>\n",
       "      <td>23</td>\n",
       "      <td>Female</td>\n",
       "      <td>0</td>\n",
       "      <td>Back end Developer</td>\n",
       "      <td>1</td>\n",
       "      <td>52807.0</td>\n",
       "      <td>UK</td>\n",
       "      <td>White</td>\n",
       "      <td>0</td>\n",
       "    </tr>\n",
       "    <tr>\n",
       "      <th>1</th>\n",
       "      <td>23</td>\n",
       "      <td>Male</td>\n",
       "      <td>0</td>\n",
       "      <td>Front end Developer</td>\n",
       "      <td>1</td>\n",
       "      <td>47898.0</td>\n",
       "      <td>USA</td>\n",
       "      <td>African American</td>\n",
       "      <td>0</td>\n",
       "    </tr>\n",
       "    <tr>\n",
       "      <th>2</th>\n",
       "      <td>23</td>\n",
       "      <td>Female</td>\n",
       "      <td>0</td>\n",
       "      <td>Back end Developer</td>\n",
       "      <td>1</td>\n",
       "      <td>52807.0</td>\n",
       "      <td>Australia</td>\n",
       "      <td>White</td>\n",
       "      <td>0</td>\n",
       "    </tr>\n",
       "    <tr>\n",
       "      <th>3</th>\n",
       "      <td>24</td>\n",
       "      <td>Female</td>\n",
       "      <td>0</td>\n",
       "      <td>Project Engineer</td>\n",
       "      <td>1</td>\n",
       "      <td>52731.0</td>\n",
       "      <td>Canada</td>\n",
       "      <td>Black</td>\n",
       "      <td>1</td>\n",
       "    </tr>\n",
       "    <tr>\n",
       "      <th>4</th>\n",
       "      <td>26</td>\n",
       "      <td>Female</td>\n",
       "      <td>1</td>\n",
       "      <td>Software Engineer</td>\n",
       "      <td>1</td>\n",
       "      <td>45000.0</td>\n",
       "      <td>UK</td>\n",
       "      <td>Welsh</td>\n",
       "      <td>0</td>\n",
       "    </tr>\n",
       "    <tr>\n",
       "      <th>...</th>\n",
       "      <td>...</td>\n",
       "      <td>...</td>\n",
       "      <td>...</td>\n",
       "      <td>...</td>\n",
       "      <td>...</td>\n",
       "      <td>...</td>\n",
       "      <td>...</td>\n",
       "      <td>...</td>\n",
       "      <td>...</td>\n",
       "    </tr>\n",
       "    <tr>\n",
       "      <th>185</th>\n",
       "      <td>24</td>\n",
       "      <td>Male</td>\n",
       "      <td>3</td>\n",
       "      <td>Software Engineer Manager</td>\n",
       "      <td>1</td>\n",
       "      <td>106686.0</td>\n",
       "      <td>Australia</td>\n",
       "      <td>Asian</td>\n",
       "      <td>0</td>\n",
       "    </tr>\n",
       "    <tr>\n",
       "      <th>186</th>\n",
       "      <td>24</td>\n",
       "      <td>Male</td>\n",
       "      <td>3</td>\n",
       "      <td>Software Engineer Manager</td>\n",
       "      <td>1</td>\n",
       "      <td>106686.0</td>\n",
       "      <td>USA</td>\n",
       "      <td>White</td>\n",
       "      <td>0</td>\n",
       "    </tr>\n",
       "    <tr>\n",
       "      <th>187</th>\n",
       "      <td>23</td>\n",
       "      <td>Male</td>\n",
       "      <td>3</td>\n",
       "      <td>Software Engineer Manager</td>\n",
       "      <td>1</td>\n",
       "      <td>119836.0</td>\n",
       "      <td>UK</td>\n",
       "      <td>Welsh</td>\n",
       "      <td>0</td>\n",
       "    </tr>\n",
       "    <tr>\n",
       "      <th>188</th>\n",
       "      <td>23</td>\n",
       "      <td>Male</td>\n",
       "      <td>3</td>\n",
       "      <td>Software Engineer Manager</td>\n",
       "      <td>1</td>\n",
       "      <td>119836.0</td>\n",
       "      <td>UK</td>\n",
       "      <td>Asian</td>\n",
       "      <td>0</td>\n",
       "    </tr>\n",
       "    <tr>\n",
       "      <th>189</th>\n",
       "      <td>24</td>\n",
       "      <td>Male</td>\n",
       "      <td>3</td>\n",
       "      <td>Software Engineer Manager</td>\n",
       "      <td>1</td>\n",
       "      <td>106132.0</td>\n",
       "      <td>Australia</td>\n",
       "      <td>Asian</td>\n",
       "      <td>0</td>\n",
       "    </tr>\n",
       "  </tbody>\n",
       "</table>\n",
       "<p>190 rows × 9 columns</p>\n",
       "</div>"
      ],
      "text/plain": [
       "     Age  Gender  Education Level                  Job Title  \\\n",
       "0     23  Female                0         Back end Developer   \n",
       "1     23    Male                0        Front end Developer   \n",
       "2     23  Female                0         Back end Developer   \n",
       "3     24  Female                0           Project Engineer   \n",
       "4     26  Female                1          Software Engineer   \n",
       "..   ...     ...              ...                        ...   \n",
       "185   24    Male                3  Software Engineer Manager   \n",
       "186   24    Male                3  Software Engineer Manager   \n",
       "187   23    Male                3  Software Engineer Manager   \n",
       "188   23    Male                3  Software Engineer Manager   \n",
       "189   24    Male                3  Software Engineer Manager   \n",
       "\n",
       "     Years of Experience    Salary    Country              Race  Senior  \n",
       "0                      1   52807.0         UK             White       0  \n",
       "1                      1   47898.0        USA  African American       0  \n",
       "2                      1   52807.0  Australia             White       0  \n",
       "3                      1   52731.0     Canada             Black       1  \n",
       "4                      1   45000.0         UK             Welsh       0  \n",
       "..                   ...       ...        ...               ...     ...  \n",
       "185                    1  106686.0  Australia             Asian       0  \n",
       "186                    1  106686.0        USA             White       0  \n",
       "187                    1  119836.0         UK             Welsh       0  \n",
       "188                    1  119836.0         UK             Asian       0  \n",
       "189                    1  106132.0  Australia             Asian       0  \n",
       "\n",
       "[190 rows x 9 columns]"
      ]
     },
     "execution_count": 23,
     "metadata": {},
     "output_type": "execute_result"
    }
   ],
   "source": [
    "# Membuat dataframe baru berisikan hasil filter berdasarkan besar penghasilan yang lebih besar atau sama dengan $45000 dan tahun pengalaman kerja selama 1 tahun\n",
    "df5 = df[(df['Salary'] >= 45000) & (df['Years of Experience'] == 1)].sort_values(by='Education Level').reset_index(drop=True) # Diurutkan dari besar ke kecil berdasarkan kolom Education level\n",
    "\n",
    "# Menampilkan data\n",
    "df5"
   ]
  },
  {
   "cell_type": "markdown",
   "metadata": {},
   "source": [
    "Hanya terdapat 190 data karena pada dataframe telah difilter berdasarkan requirement untuk mengerjakan soal 5"
   ]
  },
  {
   "cell_type": "markdown",
   "metadata": {},
   "source": [
    "### Anova Test "
   ]
  },
  {
   "cell_type": "code",
   "execution_count": 24,
   "metadata": {},
   "outputs": [
    {
     "name": "stdout",
     "output_type": "stream",
     "text": [
      "Average Salary of SMA : 51560.75\n",
      "Average Salary of S1 : 59081.99\n",
      "Average Salary of S2 : 78888.89\n",
      "Average Salary of S3 : 111835.20\n"
     ]
    }
   ],
   "source": [
    "# Mengekstrak data penghasilan pada kolom Salary untuk setiap kategoori pada kolom Education Level\n",
    "SMA = df5['Salary'][(df5['Education Level'] == 0)]\n",
    "S1 = df5['Salary'][(df5['Education Level'] == 1)]\n",
    "S2 = df5['Salary'][(df5['Education Level'] == 2)]\n",
    "S3 = df5['Salary'][(df5['Education Level'] == 3)]\n",
    "\n",
    "print(f'Average Salary of SMA : {SMA.mean():.2f}')\n",
    "print(f'Average Salary of S1 : {S1.mean():.2f}')\n",
    "print(f'Average Salary of S2 : {S2.mean():.2f}')\n",
    "print(f'Average Salary of S3 : {S3.mean():.2f}')"
   ]
  },
  {
   "cell_type": "code",
   "execution_count": 25,
   "metadata": {},
   "outputs": [
    {
     "name": "stdout",
     "output_type": "stream",
     "text": [
      "P-value: 2.236858720615844e-07\n"
     ]
    }
   ],
   "source": [
    "# Hitung P-value hasil test Anova \n",
    "res = stats.f_oneway(S1, S2)\n",
    "print('P-value:',res.pvalue)"
   ]
  },
  {
   "cell_type": "markdown",
   "metadata": {},
   "source": [
    "Berdasarkan nilai P-value (P-value < 0.05) yang diperoleh dari test anova diatas, menunjukkan bahwa hipotesis nol (H0) ditolak atau hipotesis satu (H1) diterima, yang artinya terdapat hubungan antara education level dengan penghasilan minimum $45000 yang diperoleh."
   ]
  },
  {
   "cell_type": "markdown",
   "metadata": {},
   "source": [
    "### 6. Bagaimana Pemusatan dan Distribusi Data pada Kolom 'Salary' yang Memiliki Pengalaman Kerja 1 Tahun ?"
   ]
  },
  {
   "cell_type": "code",
   "execution_count": 26,
   "metadata": {},
   "outputs": [
    {
     "data": {
      "text/html": [
       "<div>\n",
       "<style scoped>\n",
       "    .dataframe tbody tr th:only-of-type {\n",
       "        vertical-align: middle;\n",
       "    }\n",
       "\n",
       "    .dataframe tbody tr th {\n",
       "        vertical-align: top;\n",
       "    }\n",
       "\n",
       "    .dataframe thead th {\n",
       "        text-align: right;\n",
       "    }\n",
       "</style>\n",
       "<table border=\"1\" class=\"dataframe\">\n",
       "  <thead>\n",
       "    <tr style=\"text-align: right;\">\n",
       "      <th></th>\n",
       "      <th>Age</th>\n",
       "      <th>Gender</th>\n",
       "      <th>Education Level</th>\n",
       "      <th>Job Title</th>\n",
       "      <th>Years of Experience</th>\n",
       "      <th>Salary</th>\n",
       "      <th>Country</th>\n",
       "      <th>Race</th>\n",
       "      <th>Senior</th>\n",
       "    </tr>\n",
       "  </thead>\n",
       "  <tbody>\n",
       "    <tr>\n",
       "      <th>0</th>\n",
       "      <td>26</td>\n",
       "      <td>Female</td>\n",
       "      <td>1</td>\n",
       "      <td>Marketing Coordinator</td>\n",
       "      <td>1</td>\n",
       "      <td>45000.0</td>\n",
       "      <td>China</td>\n",
       "      <td>Chinese</td>\n",
       "      <td>0</td>\n",
       "    </tr>\n",
       "    <tr>\n",
       "      <th>1</th>\n",
       "      <td>24</td>\n",
       "      <td>Male</td>\n",
       "      <td>1</td>\n",
       "      <td>Developer</td>\n",
       "      <td>1</td>\n",
       "      <td>40000.0</td>\n",
       "      <td>Australia</td>\n",
       "      <td>Asian</td>\n",
       "      <td>0</td>\n",
       "    </tr>\n",
       "    <tr>\n",
       "      <th>2</th>\n",
       "      <td>26</td>\n",
       "      <td>Female</td>\n",
       "      <td>1</td>\n",
       "      <td>Customer Success Rep</td>\n",
       "      <td>1</td>\n",
       "      <td>40000.0</td>\n",
       "      <td>Canada</td>\n",
       "      <td>Asian</td>\n",
       "      <td>0</td>\n",
       "    </tr>\n",
       "    <tr>\n",
       "      <th>3</th>\n",
       "      <td>26</td>\n",
       "      <td>Male</td>\n",
       "      <td>1</td>\n",
       "      <td>Accountant</td>\n",
       "      <td>1</td>\n",
       "      <td>35000.0</td>\n",
       "      <td>Australia</td>\n",
       "      <td>Australian</td>\n",
       "      <td>0</td>\n",
       "    </tr>\n",
       "    <tr>\n",
       "      <th>4</th>\n",
       "      <td>26</td>\n",
       "      <td>Male</td>\n",
       "      <td>1</td>\n",
       "      <td>Software Developer</td>\n",
       "      <td>1</td>\n",
       "      <td>35000.0</td>\n",
       "      <td>China</td>\n",
       "      <td>White</td>\n",
       "      <td>0</td>\n",
       "    </tr>\n",
       "    <tr>\n",
       "      <th>...</th>\n",
       "      <td>...</td>\n",
       "      <td>...</td>\n",
       "      <td>...</td>\n",
       "      <td>...</td>\n",
       "      <td>...</td>\n",
       "      <td>...</td>\n",
       "      <td>...</td>\n",
       "      <td>...</td>\n",
       "      <td>...</td>\n",
       "    </tr>\n",
       "    <tr>\n",
       "      <th>414</th>\n",
       "      <td>26</td>\n",
       "      <td>Female</td>\n",
       "      <td>0</td>\n",
       "      <td>Sales Associate</td>\n",
       "      <td>1</td>\n",
       "      <td>35000.0</td>\n",
       "      <td>USA</td>\n",
       "      <td>African American</td>\n",
       "      <td>0</td>\n",
       "    </tr>\n",
       "    <tr>\n",
       "      <th>415</th>\n",
       "      <td>24</td>\n",
       "      <td>Male</td>\n",
       "      <td>1</td>\n",
       "      <td>Sales Executive</td>\n",
       "      <td>1</td>\n",
       "      <td>35000.0</td>\n",
       "      <td>Australia</td>\n",
       "      <td>Asian</td>\n",
       "      <td>0</td>\n",
       "    </tr>\n",
       "    <tr>\n",
       "      <th>416</th>\n",
       "      <td>26</td>\n",
       "      <td>Female</td>\n",
       "      <td>0</td>\n",
       "      <td>Sales Executive</td>\n",
       "      <td>1</td>\n",
       "      <td>35000.0</td>\n",
       "      <td>China</td>\n",
       "      <td>Chinese</td>\n",
       "      <td>0</td>\n",
       "    </tr>\n",
       "    <tr>\n",
       "      <th>417</th>\n",
       "      <td>24</td>\n",
       "      <td>Male</td>\n",
       "      <td>1</td>\n",
       "      <td>Sales Representative</td>\n",
       "      <td>1</td>\n",
       "      <td>35000.0</td>\n",
       "      <td>UK</td>\n",
       "      <td>Asian</td>\n",
       "      <td>0</td>\n",
       "    </tr>\n",
       "    <tr>\n",
       "      <th>418</th>\n",
       "      <td>26</td>\n",
       "      <td>Female</td>\n",
       "      <td>0</td>\n",
       "      <td>Sales Associate</td>\n",
       "      <td>1</td>\n",
       "      <td>35000.0</td>\n",
       "      <td>USA</td>\n",
       "      <td>Hispanic</td>\n",
       "      <td>0</td>\n",
       "    </tr>\n",
       "  </tbody>\n",
       "</table>\n",
       "<p>419 rows × 9 columns</p>\n",
       "</div>"
      ],
      "text/plain": [
       "     Age  Gender  Education Level              Job Title  Years of Experience  \\\n",
       "0     26  Female                1  Marketing Coordinator                    1   \n",
       "1     24    Male                1              Developer                    1   \n",
       "2     26  Female                1   Customer Success Rep                    1   \n",
       "3     26    Male                1             Accountant                    1   \n",
       "4     26    Male                1     Software Developer                    1   \n",
       "..   ...     ...              ...                    ...                  ...   \n",
       "414   26  Female                0        Sales Associate                    1   \n",
       "415   24    Male                1        Sales Executive                    1   \n",
       "416   26  Female                0        Sales Executive                    1   \n",
       "417   24    Male                1   Sales Representative                    1   \n",
       "418   26  Female                0        Sales Associate                    1   \n",
       "\n",
       "      Salary    Country              Race  Senior  \n",
       "0    45000.0      China           Chinese       0  \n",
       "1    40000.0  Australia             Asian       0  \n",
       "2    40000.0     Canada             Asian       0  \n",
       "3    35000.0  Australia        Australian       0  \n",
       "4    35000.0      China             White       0  \n",
       "..       ...        ...               ...     ...  \n",
       "414  35000.0        USA  African American       0  \n",
       "415  35000.0  Australia             Asian       0  \n",
       "416  35000.0      China           Chinese       0  \n",
       "417  35000.0         UK             Asian       0  \n",
       "418  35000.0        USA          Hispanic       0  \n",
       "\n",
       "[419 rows x 9 columns]"
      ]
     },
     "execution_count": 26,
     "metadata": {},
     "output_type": "execute_result"
    }
   ],
   "source": [
    "# Membuat dataframe baru berisikan hasil filter berdasarkan tahun pengalaman kerja selama 1 tahun\n",
    "df6 = df[(df['Years of Experience'] == 1)].reset_index(drop=True)\n",
    "\n",
    "# Menampilkan data\n",
    "df6"
   ]
  },
  {
   "cell_type": "markdown",
   "metadata": {},
   "source": [
    "Hanya terdapat 419 data karena pada dataframe telah difilter berdasarkan requirement untuk mengerjakan soal 6"
   ]
  },
  {
   "cell_type": "markdown",
   "metadata": {},
   "source": [
    "### Perhitungan Central Tendency "
   ]
  },
  {
   "cell_type": "code",
   "execution_count": 27,
   "metadata": {},
   "outputs": [
    {
     "name": "stdout",
     "output_type": "stream",
     "text": [
      "Mean = 45239.29116945108\n",
      "Median = 35000.0\n",
      "Modus = 35000.0\n"
     ]
    }
   ],
   "source": [
    "# Perhitungan nilai rata-rata, nilai tengah, dan nilai yang paling sering muncul pada data\n",
    "print(f'Mean = {df6[\"Salary\"].mean()}')\n",
    "print(f'Median = {df6[\"Salary\"].median()}')\n",
    "print(f'Modus = {df6[\"Salary\"].mode()[0]}')"
   ]
  },
  {
   "cell_type": "markdown",
   "metadata": {},
   "source": [
    "Dari informasi diatas diketahui bahwa kolom Salary memiliki nilai rata-rata (mean) sebesar 45239.29116945108, nilai tengah (median) sebesar 35000 dan nilai modus sebesar 35000. Ini menggambarkan pemusatan datanya tidak simetris melainkan agak condong ke arah kanan dikarenakan nilai mean lebih besar dari median. Berikutnya akan dilakukan Normality test untuk mengetahui apakah data ini normal atau tidak."
   ]
  },
  {
   "cell_type": "markdown",
   "metadata": {},
   "source": [
    "### Normality Test - Skewness dan Kurtosis"
   ]
  },
  {
   "cell_type": "code",
   "execution_count": 28,
   "metadata": {},
   "outputs": [
    {
     "name": "stdout",
     "output_type": "stream",
     "text": [
      "Skewness = 1.3486127241910624\n",
      "kurtosis = 1.8970986672770915\n"
     ]
    }
   ],
   "source": [
    "# Perhitungan skewness dan kurtosis\n",
    "print(f'Skewness = {df6[\"Salary\"].skew()}') # skewness berfungsi untuk mencari tahu kesimetrisan suatu data\n",
    "print(f'kurtosis = {df6[\"Salary\"].kurt()}') # kurtosis berfungsi untuk mengetahui outlier dan mengukur bentuk ekor distribusi"
   ]
  },
  {
   "cell_type": "markdown",
   "metadata": {},
   "source": [
    "Nilai dari skewness lebih dari 1 yaitu sebesar 1.3486127241910624. Artinya data dari kolom Salary tergolong kategori 'highly skewed' dan memiliki kecondongan positive skew.\n",
    "\n",
    "Sedangkan untuk kurtosis memiliki nilai lebih dari 0 yaitu sebesar 1.8970986672770915. Nilai menunjukkan data memiliki banyak outlier dan termasuk distribusi Leptokurtic. Untuk mengetahuinya diperlukan visualisasi / gambar untuk mengetahui ada atau tidaknya outlier."
   ]
  },
  {
   "cell_type": "code",
   "execution_count": 29,
   "metadata": {},
   "outputs": [
    {
     "data": {
      "text/plain": [
       "<Axes: >"
      ]
     },
     "execution_count": 29,
     "metadata": {},
     "output_type": "execute_result"
    },
    {
     "data": {
      "image/png": "[encoded data removed]",
      "text/plain": [
       "<Figure size 1000x400 with 2 Axes>"
      ]
     },
     "metadata": {},
     "output_type": "display_data"
    }
   ],
   "source": [
    "fig, ax = plt.subplots(ncols=2,figsize=(10,4))\n",
    "\n",
    "df6['Salary'].plot(kind='hist',bins=20,ax=ax[0])\n",
    "df6['Salary'].plot(kind='box',ax=ax[1])"
   ]
  },
  {
   "cell_type": "markdown",
   "metadata": {},
   "source": [
    "Pada gambar visualisasi sebelah kanan (bar chart) menunjukkan bahwa data tidak simetris dan condong ke arah kanan, hal ini sesuai dengan perhitunga skewness di atas. Dan pada gambar visualisasi sebelah kiri (boxplot) menunjukkan bahwa data memiliki cukup banyak outlier di batas atas data dan ini sesuai dengan perhitungan kurtosis di atas."
   ]
  },
  {
   "cell_type": "markdown",
   "metadata": {},
   "source": [
    "### Handling Outlier"
   ]
  },
  {
   "cell_type": "code",
   "execution_count": 30,
   "metadata": {},
   "outputs": [
    {
     "name": "stdout",
     "output_type": "stream",
     "text": [
      "Upper Boundary: 89500.00\n",
      "Lower Boundary: -2500.00\n"
     ]
    }
   ],
   "source": [
    "# Detect outlier pada data menggunakan Tukey's Rule\n",
    "q1 = df6['Salary'].quantile(0.25)\n",
    "q3 = df6['Salary'].quantile(0.75)\n",
    "iqr = q3-q1\n",
    "\n",
    "up_bound = q3 + 1.5*iqr\n",
    "low_bound = q1 - 1.5*iqr\n",
    "\n",
    "print(f'Upper Boundary: {up_bound:.2f}' )\n",
    "print(f'Lower Boundary: {low_bound:.2f}')"
   ]
  },
  {
   "cell_type": "markdown",
   "metadata": {},
   "source": [
    "Hasil dari perhitungan diatas dapat dilihat bahwa Lower Boundary bernilai negatif dan dapat kita abaikan karena tidak mungkin penghasilan/Salary memiliki nilai negatif. Dan perhitungan di atas menunjukkan bahwa nilai outlier berada di batas atas nilai data."
   ]
  },
  {
   "cell_type": "code",
   "execution_count": 31,
   "metadata": {},
   "outputs": [
    {
     "data": {
      "text/plain": [
       "0      45000.0\n",
       "1      40000.0\n",
       "2      40000.0\n",
       "3      35000.0\n",
       "4      35000.0\n",
       "        ...   \n",
       "414    35000.0\n",
       "415    35000.0\n",
       "416    35000.0\n",
       "417    35000.0\n",
       "418    35000.0\n",
       "Name: Salary, Length: 382, dtype: float64"
      ]
     },
     "execution_count": 31,
     "metadata": {},
     "output_type": "execute_result"
    }
   ],
   "source": [
    "# Membuat variable baru dengan nama no_outlier yang berisi nilai yang tidak dianggap sebagai outlier berdasarkan batas bawah (low_bound) dan batas atas (up_bound)\n",
    "no_outlier = df6['Salary'][(df6['Salary']>=low_bound) & (df6['Salary']<=up_bound)]\n",
    "no_outlier"
   ]
  },
  {
   "cell_type": "markdown",
   "metadata": {},
   "source": [
    "Dapat dilihat bahwa jumlah data sebelum handling outlier sebanyak 419 data, sedangkan setelah dilakukan handling outlier data berjumlah 382."
   ]
  },
  {
   "cell_type": "markdown",
   "metadata": {},
   "source": [
    "## KESIMPULAN"
   ]
  },
  {
   "cell_type": "markdown",
   "metadata": {},
   "source": [
    "- Dari hasil analisis data yang sudah dilakukan di atas, jawaban atas permasalah dimana jika seorang fresh graduate ingin mencari pekerjaan dengan penghasilan $45000 hanya dengan pengalaman kerja 1 tahun, dapat melamar kerja di bidang Software Engineer, Front end Developer, Data Analyst, Product Manager, atau Back end Developer.\n",
    "\n",
    "- Setelah di analisis, pekerjaan yang memiliki minimal penghasilan $45000 per tahun dengan pengalaman kerja 1 tahun adalah CEO, Chief data Officer, Chief Technology Officer, dan Director of Data Science.\n",
    "\n",
    "- Negara yang memiliki penghasilan terbesar dengan minimal pengalaman kerja sebanyak 1 tahun ialah UK. Negara UK dengan penghasilan sebesar $119.836 per tahun, diikuti oleh negara Autralia dan USA dengan penghasilan sebesar $106.686, kemudian terakhir yaitu negara Canada dan China dengan penghasilan sebesar $100.000.\n",
    "\n",
    "- Berdasarkan hasil analisis data untuk mendapatkan penghasilan $45000 per tahun diperlukan lama pengalaman kerja yang cukup bervariasi yaitu 1 tahun, 2 tahun, 3 tahun, 5 tahun, atau bahkan 8 tahun pengalaman kerja.\n",
    "\n",
    "- Hasil analisis menunjukkan bahwa 5 pekerjaan yang paling banyak dibutuhkan dengan penghasilan $45000 dan pengalaman kerja selama 1 tahun yaitu Software Engineer, Front end Developer, Data Analyst, Product Manager, dan Back end Developer. \n",
    "\n",
    "- Pada dataset ini dilakukan pengujian pada anova test untuk mengetahui apakah terdapat hubungan antara education level dengan penghasilan minimum $45000 yang diperoleh. Nilai P-value (P-value < 0.05) yang diperoleh dari test anova menunjukkan bahwa hipotesis nol (H0) ditolak yang artinya terdapat hubungan antara education level dengan penghasilan minimum $45000 yang diperoleh. \n",
    "\n",
    "- Data 'Salary' memiliki nilai mean sebesar 45239.29116945108, nilai median sebesar 35000 dan nilai modus sebesar 35000. Nilai mean lebih besar dari nilai median, hal ini menunjukkan bahwa pemusatan data tidak simetris dan condong ke arah kanan. Nilai skewness lebih dari 1 yaitu sebesar 1.3486127241910624, hal ini menunjukkan data tergolong kategori 'highly skewed' dan positive skew. Nilai kurtosis lebih dari 0 yaitu sebesar 1.8970986672770915, hal ini menunjukkan data memiliki banyak outlier dan termasuk distribusi Leptokurtic. "
   ]
  }
 ],
 "metadata": {
  "kernelspec": {
   "display_name": "base",
   "language": "python",
   "name": "python3"
  },
  "language_info": {
   "codemirror_mode": {
    "name": "ipython",
    "version": 3
   },
   "file_extension": ".py",
   "mimetype": "text/x-python",
   "name": "python",
   "nbconvert_exporter": "python",
   "pygments_lexer": "ipython3",
   "version": "3.11.5"
  }
 },
 "nbformat": 4,
 "nbformat_minor": 2
}
